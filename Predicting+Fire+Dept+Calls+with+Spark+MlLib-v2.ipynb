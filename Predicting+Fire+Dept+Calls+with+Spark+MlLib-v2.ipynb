{
 "cells": [
  {
   "cell_type": "markdown",
   "metadata": {},
   "source": [
    "## Set up Spark Environment"
   ]
  },
  {
   "cell_type": "code",
   "execution_count": 75,
   "metadata": {},
   "outputs": [],
   "source": [
    "from pyspark.sql import SparkSession"
   ]
  },
  {
   "cell_type": "code",
   "execution_count": 76,
   "metadata": {},
   "outputs": [],
   "source": [
    "## local pyspakr session\n",
    "spark = SparkSession.builder \\\n",
    "   .master(\"local\") \\\n",
    "   .appName(\"Predicting Fire Dept Calls\") \\\n",
    "   .config(\"spark.executor.memory\", \"6gb\") \\\n",
    "   .getOrCreate()"
   ]
  },
  {
   "cell_type": "code",
   "execution_count": 77,
   "metadata": {},
   "outputs": [
    {
     "data": {
      "text/html": [
       "\n",
       "            <div>\n",
       "                <p><b>SparkSession - in-memory</b></p>\n",
       "                \n",
       "        <div>\n",
       "            <p><b>SparkContext</b></p>\n",
       "\n",
       "            <p><a href=\"http://10.0.0.187:4040\">Spark UI</a></p>\n",
       "\n",
       "            <dl>\n",
       "              <dt>Version</dt>\n",
       "                <dd><code>v2.4.0</code></dd>\n",
       "              <dt>Master</dt>\n",
       "                <dd><code>local</code></dd>\n",
       "              <dt>AppName</dt>\n",
       "                <dd><code>Predicting Fire Dept Calls</code></dd>\n",
       "            </dl>\n",
       "        </div>\n",
       "        \n",
       "            </div>\n",
       "        "
      ],
      "text/plain": [
       "<pyspark.sql.session.SparkSession at 0x7efebd11ebe0>"
      ]
     },
     "execution_count": 77,
     "metadata": {},
     "output_type": "execute_result"
    }
   ],
   "source": [
    "spark"
   ]
  },
  {
   "cell_type": "code",
   "execution_count": 78,
   "metadata": {},
   "outputs": [],
   "source": [
    "## read files into spark environment\n",
    "df = spark.read.format('com.databricks.spark.csv')\\\n",
    "                    .options(header='true', inferschema='true')\\\n",
    "                    .load('Fire_Department_Calls_for_Service.csv')\n"
   ]
  },
  {
   "cell_type": "code",
   "execution_count": 79,
   "metadata": {
    "scrolled": false
   },
   "outputs": [
    {
     "name": "stdout",
     "output_type": "stream",
     "text": [
      "+-----------+-------+---------------+----------------+----------+----------+--------------------+--------------------+--------------------+--------------------+--------------------+--------------------+--------------------+----------------------+--------------------+--------------------+----+-------------------+---------+------------+----+-----------------+--------+--------------+--------+---------------+----------------+---------+------------------------------+------------------------+-------------------+------------------------------------+--------------------+-------------+\n",
      "|Call Number|Unit ID|Incident Number|       Call Type| Call Date|Watch Date|       Received DtTm|          Entry DtTm|       Dispatch DtTm|       Response DtTm|       On Scene DtTm|      Transport DtTm|       Hospital DtTm|Call Final Disposition|      Available DtTm|             Address|City|Zipcode of Incident|Battalion|Station Area| Box|Original Priority|Priority|Final Priority|ALS Unit|Call Type Group|Number of Alarms|Unit Type|Unit sequence in call dispatch|Fire Prevention District|Supervisor District|Neighborhooods - Analysis Boundaries|            Location|        RowID|\n",
      "+-----------+-------+---------------+----------------+----------+----------+--------------------+--------------------+--------------------+--------------------+--------------------+--------------------+--------------------+----------------------+--------------------+--------------------+----+-------------------+---------+------------+----+-----------------+--------+--------------+--------+---------------+----------------+---------+------------------------------+------------------------+-------------------+------------------------------------+--------------------+-------------+\n",
      "|    1030101|    E18|         306091|Medical Incident|04/12/2000|04/12/2000|04/12/2000 09:00:...|04/12/2000 09:01:...|04/12/2000 09:02:...|                null|                null|                null|                null|                 Other|                null|2000 Block of 37T...|  SF|              94116|      B08|          18|0757|                3|       3|             3|   false|           null|               1|   ENGINE|                             1|                       8|                  4|                     Sunset/Parkside|(37.7487247711275...|001030101-E18|\n",
      "|    1030104|    M14|          30612|Medical Incident|04/12/2000|04/12/2000|04/12/2000 09:09:...|04/12/2000 09:10:...|04/12/2000 09:10:...|04/12/2000 09:12:...|04/12/2000 09:19:...|04/12/2000 09:43:...|04/12/2000 10:03:...|                 Other|04/12/2000 10:23:...|1700 Block of 43R...|  SF|              94122|      B08|          23|7651|                3|       3|             3|    true|           null|               1|    MEDIC|                             2|                       8|                  4|                     Sunset/Parkside|(37.7540326780595...|001030104-M14|\n",
      "+-----------+-------+---------------+----------------+----------+----------+--------------------+--------------------+--------------------+--------------------+--------------------+--------------------+--------------------+----------------------+--------------------+--------------------+----+-------------------+---------+------------+----+-----------------+--------+--------------+--------+---------------+----------------+---------+------------------------------+------------------------+-------------------+------------------------------------+--------------------+-------------+\n",
      "only showing top 2 rows\n",
      "\n"
     ]
    }
   ],
   "source": [
    "df.show(2)"
   ]
  },
  {
   "cell_type": "markdown",
   "metadata": {},
   "source": [
    "## Data Frame show"
   ]
  },
  {
   "cell_type": "code",
   "execution_count": 80,
   "metadata": {},
   "outputs": [
    {
     "name": "stdout",
     "output_type": "stream",
     "text": [
      "+-----------+-------+\n",
      "|Call Number|unit id|\n",
      "+-----------+-------+\n",
      "|    1030101|    E18|\n",
      "|    1030104|    M14|\n",
      "+-----------+-------+\n",
      "only showing top 2 rows\n",
      "\n"
     ]
    }
   ],
   "source": [
    "## show first two rows of columns of 'Call Number' & 'unit id'\n",
    "df.select('Call Number', 'unit id').show(2)"
   ]
  },
  {
   "cell_type": "code",
   "execution_count": 81,
   "metadata": {
    "scrolled": true
   },
   "outputs": [
    {
     "name": "stdout",
     "output_type": "stream",
     "text": [
      "+--------------------+\n",
      "|     Call Type Group|\n",
      "+--------------------+\n",
      "|               Alarm|\n",
      "|                null|\n",
      "|Potentially Life-...|\n",
      "|Non Life-threatening|\n",
      "|                Fire|\n",
      "+--------------------+\n",
      "\n"
     ]
    }
   ],
   "source": [
    "## show distinct name of 'Call Type Group' column from df\n",
    "df.select('Call Type Group').distinct().show()"
   ]
  },
  {
   "cell_type": "markdown",
   "metadata": {},
   "source": [
    "## Groupby of Data Frame"
   ]
  },
  {
   "cell_type": "code",
   "execution_count": 82,
   "metadata": {},
   "outputs": [
    {
     "name": "stdout",
     "output_type": "stream",
     "text": [
      "+--------------------+-------+\n",
      "|     Call Type Group|  count|\n",
      "+--------------------+-------+\n",
      "|               Alarm| 483641|\n",
      "|                null|2804570|\n",
      "|Potentially Life-...| 985118|\n",
      "|Non Life-threatening| 474821|\n",
      "|                Fire|  83745|\n",
      "+--------------------+-------+\n",
      "\n"
     ]
    }
   ],
   "source": [
    "df.groupBy('Call Type Group').count().show()"
   ]
  },
  {
   "cell_type": "code",
   "execution_count": 83,
   "metadata": {},
   "outputs": [
    {
     "name": "stdout",
     "output_type": "stream",
     "text": [
      "<class 'pyspark.sql.dataframe.DataFrame'>\n",
      "DataFrame[Call Type Group: string, count: bigint]\n"
     ]
    }
   ],
   "source": [
    "df2 = df.groupBy('Call Type Group').count()\n",
    "print(type(df2))\n",
    "print(df2)"
   ]
  },
  {
   "cell_type": "code",
   "execution_count": 84,
   "metadata": {},
   "outputs": [],
   "source": [
    "## convert to Pandas DataFrame from Pyspark DataFrame\n",
    "graphDF = df2.toPandas()\n",
    "graphDF2 = graphDF.sort_values('count', ascending=False)"
   ]
  },
  {
   "cell_type": "code",
   "execution_count": 85,
   "metadata": {
    "scrolled": true
   },
   "outputs": [
    {
     "name": "stdout",
     "output_type": "stream",
     "text": [
      "<class 'pandas.core.frame.DataFrame'>\n",
      "                Call Type Group    count\n",
      "1                          None  2804570\n",
      "2  Potentially Life-Threatening   985118\n",
      "0                         Alarm   483641\n",
      "3          Non Life-threatening   474821\n",
      "4                          Fire    83745\n"
     ]
    }
   ],
   "source": [
    "print(type(graphDF2))\n",
    "print(graphDF2)"
   ]
  },
  {
   "cell_type": "markdown",
   "metadata": {},
   "source": [
    "## Plot of group by of Call Type Group"
   ]
  },
  {
   "cell_type": "code",
   "execution_count": 86,
   "metadata": {},
   "outputs": [],
   "source": [
    "import matplotlib.pyplot as plt\n",
    "%matplotlib inline"
   ]
  },
  {
   "cell_type": "code",
   "execution_count": 87,
   "metadata": {
    "scrolled": false
   },
   "outputs": [
    {
     "data": {
      "image/png": "[encoded data removed]",
      "text/plain": [
       "<Figure size 432x288 with 1 Axes>"
      ]
     },
     "metadata": {
      "needs_background": "light"
     },
     "output_type": "display_data"
    }
   ],
   "source": [
    "## Data Visualization\n",
    "graphDF2.plot(x='Call Type Group', y = 'count', kind='bar')\n",
    "plt.title('Call Type Group by Count')\n",
    "plt.show()"
   ]
  },
  {
   "cell_type": "code",
   "execution_count": 88,
   "metadata": {
    "scrolled": false
   },
   "outputs": [
    {
     "name": "stdout",
     "output_type": "stream",
     "text": [
      "+--------------------+-------+\n",
      "|           Call Type|  count|\n",
      "+--------------------+-------+\n",
      "|    Medical Incident|3140351|\n",
      "|      Structure Fire| 629222|\n",
      "|              Alarms| 518236|\n",
      "|   Traffic Collision| 198279|\n",
      "|               Other|  77187|\n",
      "|Citizen Assist / ...|  72630|\n",
      "|        Outside Fire|  57283|\n",
      "|        Vehicle Fire|  23242|\n",
      "|        Water Rescue|  23062|\n",
      "|Gas Leak (Natural...|  18438|\n",
      "|   Electrical Hazard|  13604|\n",
      "|Elevator / Escala...|  12745|\n",
      "|Odor (Strange / U...|  12475|\n",
      "|Smoke Investigati...|  10755|\n",
      "|          Fuel Spill|   5597|\n",
      "|              HazMat|   3934|\n",
      "|Industrial Accidents|   2844|\n",
      "|           Explosion|   2587|\n",
      "|  Aircraft Emergency|   1511|\n",
      "|       Assist Police|   1335|\n",
      "|Train / Rail Inci...|   1278|\n",
      "|   High Angle Rescue|   1172|\n",
      "|Watercraft in Dis...|    913|\n",
      "|Extrication / Ent...|    714|\n",
      "|           Oil Spill|    516|\n",
      "|Confined Space / ...|    515|\n",
      "|Mutual Aid / Assi...|    471|\n",
      "|         Marine Fire|    371|\n",
      "|  Suspicious Package|    327|\n",
      "|      Administrative|    269|\n",
      "|   Train / Rail Fire|     23|\n",
      "|Lightning Strike ...|      9|\n",
      "+--------------------+-------+\n",
      "\n"
     ]
    }
   ],
   "source": [
    "df.groupBy('Call Type').count().orderBy('count', ascending=False).show(100)"
   ]
  },
  {
   "cell_type": "markdown",
   "metadata": {},
   "source": [
    "## Data Preparation on condition of \"Fire\" Indicator"
   ]
  },
  {
   "cell_type": "code",
   "execution_count": 89,
   "metadata": {
    "scrolled": false
   },
   "outputs": [
    {
     "name": "stdout",
     "output_type": "stream",
     "text": [
      "<class 'pyspark.sql.dataframe.DataFrame'>\n",
      "+--------------------+\n",
      "|           Call Type|\n",
      "+--------------------+\n",
      "|    Medical Incident|\n",
      "|    Medical Incident|\n",
      "|    Medical Incident|\n",
      "|              Alarms|\n",
      "|    Medical Incident|\n",
      "|Citizen Assist / ...|\n",
      "|   Electrical Hazard|\n",
      "|Odor (Strange / U...|\n",
      "|    Medical Incident|\n",
      "|    Medical Incident|\n",
      "+--------------------+\n",
      "only showing top 10 rows\n",
      "\n",
      "None\n",
      "Type of fire Indicator:  <class 'pyspark.sql.dataframe.DataFrame'>\n",
      "+--------------------+-------------------------------------------------+\n",
      "|           Call Type|CASE WHEN Call Type LIKE %Fire% THEN 1 ELSE 0 END|\n",
      "+--------------------+-------------------------------------------------+\n",
      "|    Medical Incident|                                                0|\n",
      "|    Medical Incident|                                                0|\n",
      "|    Medical Incident|                                                0|\n",
      "|              Alarms|                                                0|\n",
      "|    Medical Incident|                                                0|\n",
      "|Citizen Assist / ...|                                                0|\n",
      "|   Electrical Hazard|                                                0|\n",
      "|Odor (Strange / U...|                                                0|\n",
      "|    Medical Incident|                                                0|\n",
      "|    Medical Incident|                                                0|\n",
      "+--------------------+-------------------------------------------------+\n",
      "only showing top 10 rows\n",
      "\n",
      "+--------------------+--------------+\n",
      "|           Call Type|Fire Indicator|\n",
      "+--------------------+--------------+\n",
      "|    Medical Incident|             0|\n",
      "|    Medical Incident|             0|\n",
      "|    Medical Incident|             0|\n",
      "|              Alarms|             0|\n",
      "|    Medical Incident|             0|\n",
      "|Citizen Assist / ...|             0|\n",
      "|   Electrical Hazard|             0|\n",
      "|Odor (Strange / U...|             0|\n",
      "|    Medical Incident|             0|\n",
      "|    Medical Incident|             0|\n",
      "|              Alarms|             0|\n",
      "|    Medical Incident|             0|\n",
      "|    Medical Incident|             0|\n",
      "|    Medical Incident|             0|\n",
      "|              Alarms|             0|\n",
      "|              Alarms|             0|\n",
      "|    Medical Incident|             0|\n",
      "|               Other|             0|\n",
      "|    Medical Incident|             0|\n",
      "|      Structure Fire|             1|\n",
      "+--------------------+--------------+\n",
      "only showing top 20 rows\n",
      "\n"
     ]
    }
   ],
   "source": [
    "from pyspark.sql import functions as F\n",
    "print(type(df))\n",
    "print(df.select(\"Call Type\").show(10))\n",
    "\n",
    "## FireIndicator column\n",
    "fireIndicator = df.select(df[\"Call Type\"],F.when(df[\"Call Type\"].like(\"%Fire%\"),1).otherwise(0))\n",
    "#print(\"Length of fire Indicator: \", fireIndicator.shape())\n",
    "print(\"Type of fire Indicator: \", type(fireIndicator))\n",
    "fireIndicator.show(10)\n",
    "fireIndicator2 = fireIndicator.\\\n",
    "                withColumnRenamed('CASE WHEN Call Type LIKE %Fire% THEN 1 ELSE 0 END', 'Fire Indicator')\n",
    "fireIndicator2.show()"
   ]
  },
  {
   "cell_type": "code",
   "execution_count": 90,
   "metadata": {
    "scrolled": true
   },
   "outputs": [
    {
     "name": "stdout",
     "output_type": "stream",
     "text": [
      "+--------------+-------+\n",
      "|Fire Indicator|  count|\n",
      "+--------------+-------+\n",
      "|             1| 710141|\n",
      "|             0|4121754|\n",
      "+--------------+-------+\n",
      "\n"
     ]
    }
   ],
   "source": [
    "fireIndicator2.groupBy('Fire Indicator').count().show()"
   ]
  },
  {
   "cell_type": "code",
   "execution_count": 91,
   "metadata": {},
   "outputs": [],
   "source": [
    "## Add \"fireIndicator\" column\n",
    "df3 = df.withColumn(\"fireIndicator\", F.when(df[\"Call Type\"].like(\"%Fire%\"),1).otherwise(0))"
   ]
  },
  {
   "cell_type": "code",
   "execution_count": 92,
   "metadata": {
    "scrolled": false
   },
   "outputs": [
    {
     "name": "stdout",
     "output_type": "stream",
     "text": [
      "root\n",
      " |-- Call Number: integer (nullable = true)\n",
      " |-- Unit ID: string (nullable = true)\n",
      " |-- Incident Number: integer (nullable = true)\n",
      " |-- Call Type: string (nullable = true)\n",
      " |-- Call Date: string (nullable = true)\n",
      " |-- Watch Date: string (nullable = true)\n",
      " |-- Received DtTm: string (nullable = true)\n",
      " |-- Entry DtTm: string (nullable = true)\n",
      " |-- Dispatch DtTm: string (nullable = true)\n",
      " |-- Response DtTm: string (nullable = true)\n",
      " |-- On Scene DtTm: string (nullable = true)\n",
      " |-- Transport DtTm: string (nullable = true)\n",
      " |-- Hospital DtTm: string (nullable = true)\n",
      " |-- Call Final Disposition: string (nullable = true)\n",
      " |-- Available DtTm: string (nullable = true)\n",
      " |-- Address: string (nullable = true)\n",
      " |-- City: string (nullable = true)\n",
      " |-- Zipcode of Incident: integer (nullable = true)\n",
      " |-- Battalion: string (nullable = true)\n",
      " |-- Station Area: string (nullable = true)\n",
      " |-- Box: string (nullable = true)\n",
      " |-- Original Priority: string (nullable = true)\n",
      " |-- Priority: string (nullable = true)\n",
      " |-- Final Priority: integer (nullable = true)\n",
      " |-- ALS Unit: boolean (nullable = true)\n",
      " |-- Call Type Group: string (nullable = true)\n",
      " |-- Number of Alarms: integer (nullable = true)\n",
      " |-- Unit Type: string (nullable = true)\n",
      " |-- Unit sequence in call dispatch: integer (nullable = true)\n",
      " |-- Fire Prevention District: string (nullable = true)\n",
      " |-- Supervisor District: string (nullable = true)\n",
      " |-- Neighborhooods - Analysis Boundaries: string (nullable = true)\n",
      " |-- Location: string (nullable = true)\n",
      " |-- RowID: string (nullable = true)\n",
      " |-- fireIndicator: integer (nullable = false)\n",
      "\n"
     ]
    }
   ],
   "source": [
    "df3.printSchema()"
   ]
  },
  {
   "cell_type": "code",
   "execution_count": 93,
   "metadata": {},
   "outputs": [
    {
     "name": "stdout",
     "output_type": "stream",
     "text": [
      "+--------------------+-------------+\n",
      "|           Call Type|fireIndicator|\n",
      "+--------------------+-------------+\n",
      "|    Medical Incident|            0|\n",
      "|    Medical Incident|            0|\n",
      "|    Medical Incident|            0|\n",
      "|              Alarms|            0|\n",
      "|    Medical Incident|            0|\n",
      "|Citizen Assist / ...|            0|\n",
      "|   Electrical Hazard|            0|\n",
      "|Odor (Strange / U...|            0|\n",
      "|    Medical Incident|            0|\n",
      "|    Medical Incident|            0|\n",
      "|              Alarms|            0|\n",
      "|    Medical Incident|            0|\n",
      "|    Medical Incident|            0|\n",
      "|    Medical Incident|            0|\n",
      "|              Alarms|            0|\n",
      "|              Alarms|            0|\n",
      "|    Medical Incident|            0|\n",
      "|               Other|            0|\n",
      "|    Medical Incident|            0|\n",
      "|      Structure Fire|            1|\n",
      "+--------------------+-------------+\n",
      "only showing top 20 rows\n",
      "\n"
     ]
    }
   ],
   "source": [
    "df3.select('Call Type', 'fireIndicator').show(20)"
   ]
  },
  {
   "cell_type": "code",
   "execution_count": 94,
   "metadata": {
    "scrolled": true
   },
   "outputs": [
    {
     "name": "stdout",
     "output_type": "stream",
     "text": [
      "+-------------+-------------------+---------+------------+----+----------------+------------------------------+------------------------------------+------------------------+-------------------+--------------+\n",
      "|fireIndicator|Zipcode of Incident|Battalion|Station Area| Box|Number of Alarms|Unit sequence in call dispatch|Neighborhooods - Analysis Boundaries|Fire Prevention District|Supervisor District|final priority|\n",
      "+-------------+-------------------+---------+------------+----+----------------+------------------------------+------------------------------------+------------------------+-------------------+--------------+\n",
      "|            0|              94116|      B08|          18|0757|               1|                             1|                     Sunset/Parkside|                       8|                  4|             3|\n",
      "|            0|              94122|      B08|          23|7651|               1|                             2|                     Sunset/Parkside|                       8|                  4|             3|\n",
      "|            0|              94102|      B02|          36|3111|               1|                             1|                          Tenderloin|                       2|                  6|             3|\n",
      "|            0|              94102|      B03|          01|1456|               1|                             3|                          Tenderloin|                       3|                  6|             3|\n",
      "|            0|              94108|      B03|          01|1322|               1|                             2|                Financial Distric...|                       1|                  3|             3|\n",
      "|            0|              94109|      B01|          03|1463|               1|                             1|                            Nob Hill|                       1|                  3|             3|\n",
      "|            0|              94109|      B04|          38|3155|               1|                             1|                            Nob Hill|                       4|                  2|             3|\n",
      "|            0|              94112|      B09|          15|8331|               1|                             1|                       Outer Mission|                       9|                 11|             3|\n",
      "|            0|               null|      B03|          08|2226|               1|                             1|                                None|                       3|                  6|             3|\n",
      "|            0|              94124|      B10|          17|6516|               1|                             1|                Bayview Hunters P...|                      10|                 10|             2|\n",
      "|            0|              94111|      B01|          13|1166|               1|                             1|                           Chinatown|                       1|                  3|             3|\n",
      "|            0|              94122|      B08|          22|7424|               1|                             1|                     Sunset/Parkside|                       8|                  4|             2|\n",
      "|            0|              94110|      B06|          07|5455|               1|                             1|                             Mission|                       6|                  9|             2|\n",
      "|            0|              94107|      B03|          08|2236|               1|                             1|                         Mission Bay|                       3|                  6|             3|\n",
      "|            0|              94115|      B04|          05|3623|               1|                             1|                    Western Addition|                       5|                  5|             3|\n",
      "|            0|              94115|      B04|          05|3623|               1|                             2|                    Western Addition|                       5|                  5|             3|\n",
      "|            0|              94116|      B08|          18|7637|               1|                             1|                     Sunset/Parkside|                       8|                  4|             2|\n",
      "|            0|              94127|      B08|          39|8645|               1|                             1|                  West of Twin Peaks|                       9|                  7|             3|\n",
      "|            0|              94118|      B05|          21|4564|               1|                             1|                   Lone Mountain/USF|                       5|                  1|             3|\n",
      "|            1|              94112|      B09|          33|8374|               1|                             1|                Oceanview/Merced/...|                       9|                 11|             3|\n",
      "+-------------+-------------------+---------+------------+----+----------------+------------------------------+------------------------------------+------------------------+-------------------+--------------+\n",
      "only showing top 20 rows\n",
      "\n"
     ]
    }
   ],
   "source": [
    "## Subset the variables for analysis\n",
    "df4 = df3.select('fireIndicator', \n",
    "               'Zipcode of Incident',\n",
    "               'Battalion',\n",
    "               'Station Area',\n",
    "               'Box', \n",
    "               'Number of Alarms',\n",
    "               'Unit sequence in call dispatch',\n",
    "               'Neighborhooods - Analysis Boundaries',\n",
    "               'Fire Prevention District',\n",
    "               'Supervisor District',\n",
    "               'final priority')\n",
    "df4.show()"
   ]
  },
  {
   "cell_type": "code",
   "execution_count": 95,
   "metadata": {},
   "outputs": [
    {
     "name": "stdout",
     "output_type": "stream",
     "text": [
      "Total Rows\n",
      "<class 'pyspark.sql.dataframe.DataFrame'>\n"
     ]
    },
    {
     "data": {
      "text/plain": [
       "4831895"
      ]
     },
     "execution_count": 95,
     "metadata": {},
     "output_type": "execute_result"
    }
   ],
   "source": [
    "print('Total Rows')\n",
    "print(type(df4))\n",
    "df4.count()"
   ]
  },
  {
   "cell_type": "code",
   "execution_count": 96,
   "metadata": {},
   "outputs": [
    {
     "name": "stdout",
     "output_type": "stream",
     "text": [
      "Rows without Null values\n"
     ]
    },
    {
     "data": {
      "text/plain": [
       "4815148"
      ]
     },
     "execution_count": 96,
     "metadata": {},
     "output_type": "execute_result"
    }
   ],
   "source": [
    "print('Rows without Null values')\n",
    "df4.dropna().count()"
   ]
  },
  {
   "cell_type": "code",
   "execution_count": 97,
   "metadata": {},
   "outputs": [
    {
     "name": "stdout",
     "output_type": "stream",
     "text": [
      "Row with Null Values\n"
     ]
    },
    {
     "data": {
      "text/plain": [
       "16747"
      ]
     },
     "execution_count": 97,
     "metadata": {},
     "output_type": "execute_result"
    }
   ],
   "source": [
    "print('Row with Null Values')\n",
    "df4.count()-df4.dropna().count()"
   ]
  },
  {
   "cell_type": "code",
   "execution_count": 98,
   "metadata": {},
   "outputs": [],
   "source": [
    "## Remove missing values\n",
    "df5 = df4.dropna()"
   ]
  },
  {
   "cell_type": "code",
   "execution_count": 99,
   "metadata": {
    "scrolled": true
   },
   "outputs": [
    {
     "name": "stdout",
     "output_type": "stream",
     "text": [
      "+-------------+-------+\n",
      "|fireIndicator|  count|\n",
      "+-------------+-------+\n",
      "|            0|4106120|\n",
      "|            1| 709028|\n",
      "+-------------+-------+\n",
      "\n"
     ]
    }
   ],
   "source": [
    "df5.groupBy('fireIndicator').count().orderBy('count', ascending = False).show()"
   ]
  },
  {
   "cell_type": "code",
   "execution_count": 104,
   "metadata": {},
   "outputs": [
    {
     "data": {
      "text/plain": [
       "['fireIndicator',\n",
       " 'Zipcode of Incident',\n",
       " 'Battalion',\n",
       " 'Station Area',\n",
       " 'Box',\n",
       " 'Number of Alarms',\n",
       " 'Unit sequence in call dispatch',\n",
       " 'Neighborhooods - Analysis Boundaries',\n",
       " 'Fire Prevention District',\n",
       " 'Supervisor District',\n",
       " 'final priority']"
      ]
     },
     "execution_count": 104,
     "metadata": {},
     "output_type": "execute_result"
    }
   ],
   "source": [
    "df5.columns"
   ]
  },
  {
   "cell_type": "markdown",
   "metadata": {},
   "source": [
    "## Feature Enginering of PySpark"
   ]
  },
  {
   "cell_type": "code",
   "execution_count": 100,
   "metadata": {},
   "outputs": [],
   "source": [
    "## import pyspark feature engineering to assign numeric values to categorical variable \n",
    "from pyspark.ml.feature import StringIndexer"
   ]
  },
  {
   "cell_type": "code",
   "execution_count": 101,
   "metadata": {},
   "outputs": [],
   "source": [
    "## StringIndexer encodes a string column of labels to a column of labeled indices. \n",
    "## Define each indexer algorithm\n",
    "Neighborhoods_indexer = StringIndexer(inputCol='Neighborhooods - Analysis Boundaries', outputCol='Neighbors')\n",
    "zip_indexer = StringIndexer(inputCol='Zipcode of Incident', outputCol='Zip')\n",
    "batallion_indexer = StringIndexer(inputCol='Battalion', outputCol='Battalion_')\n",
    "stationarea_indexer = StringIndexer(inputCol='Station Area', outputCol='StationArea')\n",
    "box_indexer = StringIndexer(inputCol='Box', outputCol='Box_')\n",
    "fireDistrict_indexer = StringIndexer(inputCol='Fire Prevention District', outputCol='FireDistrict')\n",
    "supervisorDistrict_indexer = StringIndexer(inputCol='Supervisor District', outputCol='SupervisorDistrict')"
   ]
  },
  {
   "cell_type": "code",
   "execution_count": 102,
   "metadata": {},
   "outputs": [
    {
     "name": "stdout",
     "output_type": "stream",
     "text": [
      "<class 'pyspark.ml.feature.StringIndexer'>\n",
      "StringIndexer_175083e2337a\n"
     ]
    }
   ],
   "source": [
    "print(type(Neighborhoods_indexer))\n",
    "print(Neighborhoods_indexer)"
   ]
  },
  {
   "cell_type": "code",
   "execution_count": 103,
   "metadata": {},
   "outputs": [],
   "source": [
    "## Create a model for each feature\n",
    "Neighborhoods_indexer_model = Neighborhoods_indexer.fit(df5)\n",
    "zip_indexer_model  = zip_indexer.fit(df5)\n",
    "batallion_indexer_model  = batallion_indexer.fit(df5)\n",
    "stationarea_indexer_model  = stationarea_indexer.fit(df5)\n",
    "box_indexer_model  = box_indexer.fit(df5)\n",
    "fireDistrict_model  = fireDistrict_indexer.fit(df5)\n",
    "supervisorDistrict_model  = supervisorDistrict_indexer.fit(df5)"
   ]
  },
  {
   "cell_type": "code",
   "execution_count": 105,
   "metadata": {
    "scrolled": true
   },
   "outputs": [
    {
     "name": "stdout",
     "output_type": "stream",
     "text": [
      "StringIndexer_175083e2337a\n",
      "<class 'pyspark.ml.feature.StringIndexerModel'>\n"
     ]
    }
   ],
   "source": [
    "print(Neighborhoods_indexer_model)\n",
    "print(type(Neighborhoods_indexer_model))"
   ]
  },
  {
   "cell_type": "code",
   "execution_count": 106,
   "metadata": {
    "scrolled": true
   },
   "outputs": [],
   "source": [
    "## Transform (create feature) using models\n",
    "df5 = Neighborhoods_indexer_model.transform(df5)\n",
    "df5 = zip_indexer_model.transform(df5)\n",
    "df5 = batallion_indexer_model.transform(df5)\n",
    "df5 = stationarea_indexer_model.transform(df5)\n",
    "df5 = box_indexer_model.transform(df5)\n",
    "df5 = fireDistrict_model.transform(df5)\n",
    "df5 = supervisorDistrict_model.transform(df5)"
   ]
  },
  {
   "cell_type": "code",
   "execution_count": 107,
   "metadata": {
    "scrolled": false
   },
   "outputs": [
    {
     "data": {
      "text/plain": [
       "['fireIndicator',\n",
       " 'Zipcode of Incident',\n",
       " 'Battalion',\n",
       " 'Station Area',\n",
       " 'Box',\n",
       " 'Number of Alarms',\n",
       " 'Unit sequence in call dispatch',\n",
       " 'Neighborhooods - Analysis Boundaries',\n",
       " 'Fire Prevention District',\n",
       " 'Supervisor District',\n",
       " 'final priority',\n",
       " 'Neighbors',\n",
       " 'Zip',\n",
       " 'Battalion_',\n",
       " 'StationArea',\n",
       " 'Box_',\n",
       " 'FireDistrict',\n",
       " 'SupervisorDistrict']"
      ]
     },
     "execution_count": 107,
     "metadata": {},
     "output_type": "execute_result"
    }
   ],
   "source": [
    "df5.columns"
   ]
  },
  {
   "cell_type": "code",
   "execution_count": 109,
   "metadata": {},
   "outputs": [
    {
     "name": "stdout",
     "output_type": "stream",
     "text": [
      "+------------------------------------+---------+\n",
      "|Neighborhooods - Analysis Boundaries|Neighbors|\n",
      "+------------------------------------+---------+\n",
      "|                     Sunset/Parkside|      5.0|\n",
      "|                     Sunset/Parkside|      5.0|\n",
      "|                          Tenderloin|      0.0|\n",
      "|                          Tenderloin|      0.0|\n",
      "|                Financial Distric...|      3.0|\n",
      "|                            Nob Hill|      7.0|\n",
      "|                            Nob Hill|      7.0|\n",
      "|                       Outer Mission|     22.0|\n",
      "|                Bayview Hunters P...|      4.0|\n",
      "|                           Chinatown|     13.0|\n",
      "|                     Sunset/Parkside|      5.0|\n",
      "|                             Mission|      2.0|\n",
      "|                         Mission Bay|     28.0|\n",
      "|                    Western Addition|      6.0|\n",
      "|                    Western Addition|      6.0|\n",
      "|                     Sunset/Parkside|      5.0|\n",
      "|                  West of Twin Peaks|     11.0|\n",
      "|                   Lone Mountain/USF|     27.0|\n",
      "|                Oceanview/Merced/...|     23.0|\n",
      "|                     South of Market|      1.0|\n",
      "+------------------------------------+---------+\n",
      "only showing top 20 rows\n",
      "\n"
     ]
    }
   ],
   "source": [
    "## show how variable is converted into features. \n",
    "df5.select('Neighborhooods - Analysis Boundaries', 'Neighbors').show()"
   ]
  },
  {
   "cell_type": "code",
   "execution_count": 110,
   "metadata": {},
   "outputs": [],
   "source": [
    "## Select features only\n",
    "df6 = df5.select('fireIndicator',\\\n",
    "          'Neighbors',\\\n",
    "          'Zip',\\\n",
    "          'Battalion_',\\\n",
    "          'StationArea',\\\n",
    "          'Box_',\\\n",
    "          'Number Of Alarms',\\\n",
    "          'Unit sequence in call dispatch',\\\n",
    "          'FireDistrict',\\\n",
    "          'SupervisorDistrict',\\\n",
    "          'final priority')"
   ]
  },
  {
   "cell_type": "code",
   "execution_count": 114,
   "metadata": {},
   "outputs": [
    {
     "name": "stdout",
     "output_type": "stream",
     "text": [
      "+-------------+---------+----+----------+-----------+------+----------------+------------------------------+------------+------------------+--------------+\n",
      "|fireIndicator|Neighbors| Zip|Battalion_|StationArea|  Box_|Number Of Alarms|Unit sequence in call dispatch|FireDistrict|SupervisorDistrict|final priority|\n",
      "+-------------+---------+----+----------+-----------+------+----------------+------------------------------+------------+------------------+--------------+\n",
      "|            0|      5.0|18.0|       5.0|       29.0|1737.0|               1|                             1|         7.0|              10.0|             3|\n",
      "|            0|      5.0| 8.0|       5.0|       31.0|1284.0|               1|                             2|         7.0|              10.0|             3|\n",
      "+-------------+---------+----+----------+-----------+------+----------------+------------------------------+------------+------------------+--------------+\n",
      "only showing top 2 rows\n",
      "\n"
     ]
    }
   ],
   "source": [
    "df6.show(2)"
   ]
  },
  {
   "cell_type": "code",
   "execution_count": 111,
   "metadata": {
    "scrolled": true
   },
   "outputs": [
    {
     "name": "stdout",
     "output_type": "stream",
     "text": [
      "root\n",
      " |-- fireIndicator: integer (nullable = false)\n",
      " |-- Neighbors: double (nullable = false)\n",
      " |-- Zip: double (nullable = false)\n",
      " |-- Battalion_: double (nullable = false)\n",
      " |-- StationArea: double (nullable = false)\n",
      " |-- Box_: double (nullable = false)\n",
      " |-- Number Of Alarms: integer (nullable = true)\n",
      " |-- Unit sequence in call dispatch: integer (nullable = true)\n",
      " |-- FireDistrict: double (nullable = false)\n",
      " |-- SupervisorDistrict: double (nullable = false)\n",
      " |-- final priority: integer (nullable = true)\n",
      "\n"
     ]
    }
   ],
   "source": [
    "df6.printSchema()"
   ]
  },
  {
   "cell_type": "code",
   "execution_count": 115,
   "metadata": {},
   "outputs": [],
   "source": [
    "features = ['Neighbors',\n",
    " 'Zip',\n",
    " 'Battalion_',\n",
    " 'StationArea',\n",
    " 'Box_',\n",
    " 'Number Of Alarms',\n",
    " 'Unit sequence in call dispatch',\n",
    " 'FireDistrict',\n",
    " 'SupervisorDistrict',\n",
    " 'final priority']"
   ]
  },
  {
   "cell_type": "code",
   "execution_count": 116,
   "metadata": {},
   "outputs": [],
   "source": [
    "from pyspark.ml.feature import VectorAssembler\n",
    "\n",
    "feature_vectors = VectorAssembler(\n",
    "        inputCols = features,\n",
    "        outputCol = \"features\")"
   ]
  },
  {
   "cell_type": "code",
   "execution_count": 118,
   "metadata": {},
   "outputs": [
    {
     "data": {
      "text/plain": [
       "pyspark.ml.feature.VectorAssembler"
      ]
     },
     "execution_count": 118,
     "metadata": {},
     "output_type": "execute_result"
    }
   ],
   "source": [
    "type(feature_vectors)"
   ]
  },
  {
   "cell_type": "code",
   "execution_count": 119,
   "metadata": {},
   "outputs": [],
   "source": [
    "df7 = feature_vectors.transform(df6)"
   ]
  },
  {
   "cell_type": "code",
   "execution_count": 120,
   "metadata": {
    "scrolled": true
   },
   "outputs": [
    {
     "data": {
      "text/plain": [
       "['fireIndicator',\n",
       " 'Neighbors',\n",
       " 'Zip',\n",
       " 'Battalion_',\n",
       " 'StationArea',\n",
       " 'Box_',\n",
       " 'Number Of Alarms',\n",
       " 'Unit sequence in call dispatch',\n",
       " 'FireDistrict',\n",
       " 'SupervisorDistrict',\n",
       " 'final priority',\n",
       " 'features']"
      ]
     },
     "execution_count": 120,
     "metadata": {},
     "output_type": "execute_result"
    }
   ],
   "source": [
    "df7.columns"
   ]
  },
  {
   "cell_type": "code",
   "execution_count": 127,
   "metadata": {},
   "outputs": [
    {
     "name": "stdout",
     "output_type": "stream",
     "text": [
      "[Row(features=DenseVector([5.0, 18.0, 5.0, 29.0, 1737.0, 1.0, 1.0, 7.0, 10.0, 3.0]))]\n"
     ]
    }
   ],
   "source": [
    "print(df7.select('features').take(1))"
   ]
  },
  {
   "cell_type": "code",
   "execution_count": 130,
   "metadata": {},
   "outputs": [],
   "source": [
    "## drop other variables except \"fireIndicator\" & \"features\"\n",
    "df8 = df7.drop(\"Neighbors\",\n",
    " \"Zip\",\n",
    " \"Battalion_\",\n",
    " \"StationArea\",\n",
    " \"Box_\",\n",
    " \"Number Of Alarms\",\n",
    " \"Unit sequence in call dispatch\",\n",
    " \"FireDistrict\",\n",
    " \"SupervisorDistrict\",\n",
    " \"final priority\")"
   ]
  },
  {
   "cell_type": "code",
   "execution_count": 131,
   "metadata": {},
   "outputs": [],
   "source": [
    "## changes name of column\n",
    "df8 = df8.withColumnRenamed('fireIndicator', 'label')"
   ]
  },
  {
   "cell_type": "code",
   "execution_count": 132,
   "metadata": {},
   "outputs": [
    {
     "name": "stdout",
     "output_type": "stream",
     "text": [
      "+-----+--------------------+\n",
      "|label|            features|\n",
      "+-----+--------------------+\n",
      "|    0|[5.0,18.0,5.0,29....|\n",
      "|    0|[5.0,8.0,5.0,31.0...|\n",
      "|    0|[0.0,0.0,1.0,2.0,...|\n",
      "|    0|(10,[4,5,6,7,9],[...|\n",
      "|    0|[3.0,17.0,0.0,0.0...|\n",
      "|    0|[7.0,3.0,2.0,1.0,...|\n",
      "|    0|[7.0,3.0,3.0,17.0...|\n",
      "|    0|[22.0,5.0,6.0,18....|\n",
      "|    0|[4.0,4.0,4.0,7.0,...|\n",
      "|    0|[13.0,21.0,2.0,4....|\n",
      "|    0|[5.0,8.0,5.0,26.0...|\n",
      "|    0|[2.0,2.0,7.0,3.0,...|\n",
      "|    0|[28.0,7.0,0.0,8.0...|\n",
      "|    0|[6.0,6.0,3.0,6.0,...|\n",
      "|    0|[6.0,6.0,3.0,6.0,...|\n",
      "|    0|[5.0,18.0,5.0,29....|\n",
      "|    0|[11.0,22.0,5.0,37...|\n",
      "|    0|[27.0,11.0,8.0,13...|\n",
      "|    1|[23.0,5.0,6.0,21....|\n",
      "|    0|[1.0,1.0,1.0,2.0,...|\n",
      "+-----+--------------------+\n",
      "only showing top 20 rows\n",
      "\n"
     ]
    }
   ],
   "source": [
    "df8.show()"
   ]
  },
  {
   "cell_type": "code",
   "execution_count": 133,
   "metadata": {},
   "outputs": [],
   "source": [
    "## Prepare test and training data\n",
    "(trainDF, testDF) = df8.randomSplit([0.75, 0.25], seed = 12345)"
   ]
  },
  {
   "cell_type": "code",
   "execution_count": 134,
   "metadata": {},
   "outputs": [
    {
     "name": "stdout",
     "output_type": "stream",
     "text": [
      "3611539\n",
      "1203609\n"
     ]
    }
   ],
   "source": [
    "print(trainDF.count())\n",
    "print(testDF.count())"
   ]
  },
  {
   "cell_type": "code",
   "execution_count": null,
   "metadata": {},
   "outputs": [],
   "source": [
    "## Import Pyspark classification algorithm\n",
    "from pyspark.ml.classification import LogisticRegression\n",
    "\n",
    "## Create instance of ML Logistic Regression using label and features\n",
    "logreg = LogisticRegression(labelCol=\"label\", featuresCol=\"features\", maxIter=10)\n",
    "\n",
    "## Train the model\n",
    "LogisticRegressionModel = logreg.fit(trainDF)"
   ]
  },
  {
   "cell_type": "code",
   "execution_count": null,
   "metadata": {},
   "outputs": [],
   "source": [
    "print(logreg)\n",
    "print(LogisticRegressionModel)"
   ]
  },
  {
   "cell_type": "code",
   "execution_count": 136,
   "metadata": {},
   "outputs": [],
   "source": [
    "## Prediction using the trained model\n",
    "df_predicted = LogisticRegressionModel.transform(testDF)"
   ]
  },
  {
   "cell_type": "code",
   "execution_count": 137,
   "metadata": {},
   "outputs": [
    {
     "name": "stdout",
     "output_type": "stream",
     "text": [
      "root\n",
      " |-- label: integer (nullable = false)\n",
      " |-- features: vector (nullable = true)\n",
      " |-- rawPrediction: vector (nullable = true)\n",
      " |-- probability: vector (nullable = true)\n",
      " |-- prediction: double (nullable = false)\n",
      "\n"
     ]
    }
   ],
   "source": [
    "df_predicted.printSchema()"
   ]
  },
  {
   "cell_type": "code",
   "execution_count": 139,
   "metadata": {},
   "outputs": [
    {
     "data": {
      "text/plain": [
       "pyspark.sql.dataframe.DataFrame"
      ]
     },
     "execution_count": 139,
     "metadata": {},
     "output_type": "execute_result"
    }
   ],
   "source": [
    "type(df_predicted)"
   ]
  },
  {
   "cell_type": "code",
   "execution_count": 138,
   "metadata": {},
   "outputs": [
    {
     "name": "stdout",
     "output_type": "stream",
     "text": [
      "+-----+--------------------+--------------------+--------------------+----------+\n",
      "|label|            features|       rawPrediction|         probability|prediction|\n",
      "+-----+--------------------+--------------------+--------------------+----------+\n",
      "|    0|(10,[2,4,5,6,9],[...|[3.39109577466871...|[0.96742509438895...|       0.0|\n",
      "|    0|(10,[2,4,5,6,9],[...|[1.38359453477156...|[0.79956767788848...|       0.0|\n",
      "|    0|(10,[2,4,5,6,9],[...|[0.89393993774874...|[0.70970256774538...|       0.0|\n",
      "|    0|(10,[2,4,5,6,9],[...|[3.38623260579572...|[0.96727148868075...|       0.0|\n",
      "|    0|(10,[2,4,5,6,9],[...|[3.38623260579572...|[0.96727148868075...|       0.0|\n",
      "+-----+--------------------+--------------------+--------------------+----------+\n",
      "only showing top 5 rows\n",
      "\n"
     ]
    }
   ],
   "source": [
    "df_predicted.show(5)"
   ]
  },
  {
   "cell_type": "code",
   "execution_count": 140,
   "metadata": {},
   "outputs": [
    {
     "data": {
      "text/plain": [
       "[Row(features=SparseVector(10, {2: 1.0, 4: 3.0, 5: 1.0, 6: 1.0, 9: 2.0}))]"
      ]
     },
     "execution_count": 140,
     "metadata": {},
     "output_type": "execute_result"
    }
   ],
   "source": [
    "df_predicted.select('features').take(1)"
   ]
  },
  {
   "cell_type": "code",
   "execution_count": 141,
   "metadata": {},
   "outputs": [
    {
     "data": {
      "text/plain": [
       "[Row(rawPrediction=DenseVector([3.3911, -3.3911]))]"
      ]
     },
     "execution_count": 141,
     "metadata": {},
     "output_type": "execute_result"
    }
   ],
   "source": [
    "df_predicted.select('rawPrediction').take(1)"
   ]
  },
  {
   "cell_type": "code",
   "execution_count": 142,
   "metadata": {},
   "outputs": [
    {
     "data": {
      "text/plain": [
       "[Row(probability=DenseVector([0.9674, 0.0326]))]"
      ]
     },
     "execution_count": 142,
     "metadata": {},
     "output_type": "execute_result"
    }
   ],
   "source": [
    "df_predicted.select('probability').take(1)"
   ]
  },
  {
   "cell_type": "code",
   "execution_count": 143,
   "metadata": {},
   "outputs": [
    {
     "name": "stdout",
     "output_type": "stream",
     "text": [
      "+----------------+-------+-----+\n",
      "|label_prediction|    0.0|  1.0|\n",
      "+----------------+-------+-----+\n",
      "|               1| 127121|50104|\n",
      "|               0|1016260|10124|\n",
      "+----------------+-------+-----+\n",
      "\n"
     ]
    }
   ],
   "source": [
    "df_predicted.crosstab('label', 'prediction').show()"
   ]
  },
  {
   "cell_type": "code",
   "execution_count": 145,
   "metadata": {
    "scrolled": true
   },
   "outputs": [],
   "source": [
    "from sklearn import metrics"
   ]
  },
  {
   "cell_type": "code",
   "execution_count": 146,
   "metadata": {},
   "outputs": [],
   "source": [
    "actual = df_predicted.select('label').toPandas()"
   ]
  },
  {
   "cell_type": "code",
   "execution_count": 147,
   "metadata": {},
   "outputs": [],
   "source": [
    "predicted = df_predicted.select('prediction').toPandas()"
   ]
  },
  {
   "cell_type": "code",
   "execution_count": 148,
   "metadata": {},
   "outputs": [
    {
     "data": {
      "text/plain": [
       "0.8859721055591974"
      ]
     },
     "execution_count": 148,
     "metadata": {},
     "output_type": "execute_result"
    }
   ],
   "source": [
    "metrics.accuracy_score(actual, predicted)"
   ]
  },
  {
   "cell_type": "code",
   "execution_count": 149,
   "metadata": {},
   "outputs": [
    {
     "name": "stdout",
     "output_type": "stream",
     "text": [
      "+-----+-------+\n",
      "|label|  count|\n",
      "+-----+-------+\n",
      "|    1| 177225|\n",
      "|    0|1026384|\n",
      "+-----+-------+\n",
      "\n"
     ]
    }
   ],
   "source": [
    "df_predicted.groupBy('label').count().show()"
   ]
  },
  {
   "cell_type": "code",
   "execution_count": 150,
   "metadata": {
    "scrolled": true
   },
   "outputs": [
    {
     "name": "stdout",
     "output_type": "stream",
     "text": [
      "+-------+-------------------+\n",
      "|summary|              label|\n",
      "+-------+-------------------+\n",
      "|  count|            1203609|\n",
      "|   mean|0.14724466167999742|\n",
      "| stddev| 0.3543497927323642|\n",
      "|    min|                  0|\n",
      "|    max|                  1|\n",
      "+-------+-------------------+\n",
      "\n"
     ]
    }
   ],
   "source": [
    "df_predicted.describe('label').show()"
   ]
  }
 ],
 "metadata": {
  "kernelspec": {
   "display_name": "Python 3",
   "language": "python",
   "name": "python3"
  },
  "language_info": {
   "codemirror_mode": {
    "name": "ipython",
    "version": 3
   },
   "file_extension": ".py",
   "mimetype": "text/x-python",
   "name": "python",
   "nbconvert_exporter": "python",
   "pygments_lexer": "ipython3",
   "version": "3.6.6"
  }
 },
 "nbformat": 4,
 "nbformat_minor": 2
}
